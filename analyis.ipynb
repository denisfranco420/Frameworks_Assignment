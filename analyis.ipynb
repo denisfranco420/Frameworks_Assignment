{
 "cells": [
  {
   "cell_type": "code",
   "execution_count": null,
   "id": "f2b78257",
   "metadata": {},
   "outputs": [],
   "source": [
    "import pandas as pd\n",
    "\n",
    "# Load the dataset\n",
    "df = pd.read_csv(\"metadata.csv\")\n",
    "\n",
    "# Explore\n",
    "print(\"Shape:\", df.shape)      # Rows & Columns\n",
    "print(df.info())               # Column data types\n",
    "print(df.head())               # Preview first rows\n",
    "\n",
    "# Check missing values\n",
    "print(df.isnull().sum().head(10))  \n",
    "\n",
    "# Stats for numerical cols\n",
    "print(df.describe())\n"
   ]
  },
  {
   "cell_type": "code",
   "execution_count": null,
   "id": "92fe20fd",
   "metadata": {},
   "outputs": [],
   "source": [
    "# Drop rows with no title or abstract (example)\n",
    "df_clean = df.dropna(subset=['title', 'abstract', 'publish_time'])\n",
    "\n",
    "# Convert to datetime\n",
    "df_clean['publish_time'] = pd.to_datetime(df_clean['publish_time'], errors='coerce')\n",
    "\n",
    "# Extract year\n",
    "df_clean['year'] = df_clean['publish_time'].dt.year\n",
    "\n",
    "# Word count for abstracts\n",
    "df_clean['abstract_word_count'] = df_clean['abstract'].apply(lambda x: len(str(x).split()))\n"
   ]
  },
  {
   "cell_type": "code",
   "execution_count": null,
   "id": "abd0c7d2",
   "metadata": {},
   "outputs": [],
   "source": [
    "import matplotlib.pyplot as plt\n",
    "from wordcloud import WordCloud\n",
    "\n",
    "# Count papers by year\n",
    "year_counts = df_clean['year'].value_counts().sort_index()\n",
    "plt.bar(year_counts.index, year_counts.values)\n",
    "plt.title(\"Publications by Year\")\n",
    "plt.xlabel(\"Year\")\n",
    "plt.ylabel(\"Count\")\n",
    "plt.show()\n",
    "\n",
    "# Top journals\n",
    "top_journals = df_clean['journal'].value_counts().head(10)\n",
    "top_journals.plot(kind='barh', title=\"Top Journals\")\n",
    "plt.show()\n",
    "\n",
    "# Word cloud for titles\n",
    "text = \" \".join(df_clean['title'].dropna().astype(str))\n",
    "wc = WordCloud(width=800, height=400, background_color=\"white\").generate(text)\n",
    "plt.imshow(wc, interpolation=\"bilinear\")\n",
    "plt.axis(\"off\")\n",
    "plt.show()\n"
   ]
  },
  {
   "cell_type": "code",
   "execution_count": null,
   "id": "73c32a78",
   "metadata": {},
   "outputs": [],
   "source": [
    "import streamlit as st\n",
    "import matplotlib.pyplot as plt\n",
    "\n",
    "st.title(\"CORD-19 Data Explorer\")\n",
    "st.write(\"Explore COVID-19 research metadata\")\n",
    "\n",
    "# Year filter\n",
    "year_range = st.slider(\"Select year range\", 2015, 2023, (2019, 2021))\n",
    "filtered = df_clean[(df_clean['year'] >= year_range[0]) & (df_clean['year'] <= year_range[1])]\n",
    "\n",
    "# Plot pubs over time\n",
    "year_counts = filtered['year'].value_counts().sort_index()\n",
    "fig, ax = plt.subplots()\n",
    "ax.bar(year_counts.index, year_counts.values)\n",
    "ax.set_title(\"Publications by Year\")\n",
    "st.pyplot(fig)\n",
    "\n",
    "# Show data sample\n",
    "st.dataframe(filtered.head(20))\n"
   ]
  }
 ],
 "metadata": {
  "language_info": {
   "name": "python"
  }
 },
 "nbformat": 4,
 "nbformat_minor": 5
}
